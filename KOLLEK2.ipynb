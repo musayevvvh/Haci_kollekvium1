{
  "nbformat": 4,
  "nbformat_minor": 0,
  "metadata": {
    "colab": {
      "provenance": [],
      "authorship_tag": "ABX9TyP7FCdmYJltDU/dUyjSu89k",
      "include_colab_link": true
    },
    "kernelspec": {
      "name": "python3",
      "display_name": "Python 3"
    },
    "language_info": {
      "name": "python"
    }
  },
  "cells": [
    {
      "cell_type": "markdown",
      "metadata": {
        "id": "view-in-github",
        "colab_type": "text"
      },
      "source": [
        "<a href=\"https://colab.research.google.com/github/musayevvvh/Haci_kollekvium1/blob/main/KOLLEK2.ipynb\" target=\"_parent\"><img src=\"https://colab.research.google.com/assets/colab-badge.svg\" alt=\"Open In Colab\"/></a>"
      ]
    },
    {
      "cell_type": "markdown",
      "source": [
        "# **SPRINT_3a**"
      ],
      "metadata": {
        "id": "zxRLvMtV79GG"
      }
    },
    {
      "cell_type": "markdown",
      "source": [
        "**1) x dəyişəni verilmişdir. Əgər x > 0 olarsa \"müsbət\", x < 0 olarsa \"mənfi\", bərabərdirsə \"sıfır\" çap etsin.**"
      ],
      "metadata": {
        "id": "m4xbqGdz8Juc"
      }
    },
    {
      "cell_type": "code",
      "source": [
        "x = int(input(\"x dəyərini daxil edin: \"))\n",
        "if x > 0:\n",
        "    print(\"müsbət\")\n",
        "elif x < 0:\n",
        "    print(\"mənfi\")\n",
        "else:\n",
        "    print(\"sıfır\")"
      ],
      "metadata": {
        "colab": {
          "base_uri": "https://localhost:8080/"
        },
        "id": "XKroDhBJ8QGE",
        "outputId": "7cfe3ae9-5e95-4df6-bde6-c031ace24b48"
      },
      "execution_count": null,
      "outputs": [
        {
          "output_type": "stream",
          "name": "stdout",
          "text": [
            "x dəyərini daxil edin: 8\n",
            "müsbət\n"
          ]
        }
      ]
    },
    {
      "cell_type": "markdown",
      "source": [
        "**2) n rəqəmi cütdürsə \"cüt\", təkdirsə \"tək\" çap etsin.**"
      ],
      "metadata": {
        "id": "sn2qy55R8Zuj"
      }
    },
    {
      "cell_type": "code",
      "source": [
        "n = int(input(\"n dəyərini daxil edin: \"))\n",
        "if n % 2 == 0:\n",
        "    print(\"cüt\")\n",
        "else:\n",
        "    print(\"tək\")"
      ],
      "metadata": {
        "colab": {
          "base_uri": "https://localhost:8080/"
        },
        "id": "9kAc1ZKJ8Vju",
        "outputId": "545ee768-67be-4e33-f8ce-54d8a71774c9"
      },
      "execution_count": null,
      "outputs": [
        {
          "output_type": "stream",
          "name": "stdout",
          "text": [
            "n dəyərini daxil edin: 9\n",
            "tək\n"
          ]
        }
      ]
    },
    {
      "cell_type": "markdown",
      "source": [
        "**3) a, b, c rəqəmləri verilmişdir. Ən böyük rəqəmi çap etsin.**"
      ],
      "metadata": {
        "id": "Sbf-MOnY8kRz"
      }
    },
    {
      "cell_type": "code",
      "source": [
        "a = int(input(\"a dəyərini daxil edin: \"))\n",
        "b = int(input(\"b dəyərini daxil edin: \"))\n",
        "c = int(input(\"c dəyərini daxil edin: \"))\n",
        "print(\"Ən böyük rəqəm:\", max(a, b, c))"
      ],
      "metadata": {
        "colab": {
          "base_uri": "https://localhost:8080/"
        },
        "id": "Yg2NHVoG8xJy",
        "outputId": "5e66de73-e11e-49d4-aade-2536ad918601"
      },
      "execution_count": null,
      "outputs": [
        {
          "output_type": "stream",
          "name": "stdout",
          "text": [
            "a dəyərini daxil edin: 56\n",
            "b dəyərini daxil edin: 325\n",
            "c dəyərini daxil edin: 9875\n",
            "Ən böyük rəqəm: 9875\n"
          ]
        }
      ]
    },
    {
      "cell_type": "markdown",
      "source": [
        "**4) day dəyişəni 1-7 arası rəqəmdir. Müvafiq həftə gününü (1 = \"Bazar ertəsi\", ..., 7 = \"Bazar\") çap etsin, əks halda \"Yanlış gün\" yazsın.**"
      ],
      "metadata": {
        "id": "b5CjAsFe86sR"
      }
    },
    {
      "cell_type": "code",
      "source": [
        "# 4. day dəyişəni 1-7 arası rəqəmdir.\n",
        "day = int(input(\"Həftənin gününü daxil edin (1-7): \"))\n",
        "if day == 1:\n",
        "    print(\"Bazar ertəsi\")\n",
        "elif day == 2:\n",
        "    print(\"Çərşənbə axşamı\")\n",
        "elif day == 3:\n",
        "    print(\"Çərşənbə\")\n",
        "elif day == 4:\n",
        "    print(\"Cümə axşamı\")\n",
        "elif day == 5:\n",
        "    print(\"Cümə\")\n",
        "elif day == 6:\n",
        "    print(\"Şənbə\")\n",
        "elif day == 7:\n",
        "    print(\"Bazar\")\n",
        "else:\n",
        "    print(\"Yanlış gün\")\n"
      ],
      "metadata": {
        "colab": {
          "base_uri": "https://localhost:8080/"
        },
        "id": "71T1MDRg9DKz",
        "outputId": "b02b85de-e68a-4eb8-f12b-5c55c1cd90ea"
      },
      "execution_count": null,
      "outputs": [
        {
          "output_type": "stream",
          "name": "stdout",
          "text": [
            "Həftənin gününü daxil edin (1-7): 9\n",
            "Yanlış gün\n"
          ]
        }
      ]
    },
    {
      "cell_type": "markdown",
      "source": [
        "**5) temp dəyişəni temperaturdur. Əgər temp < 0 olarsa \"soyuq\", 0-20 arası olarsa \"normal\", 20-dən böyükdürsə \"isti\" çap etsin.**"
      ],
      "metadata": {
        "id": "67baGfrI9bWZ"
      }
    },
    {
      "cell_type": "code",
      "source": [
        "temp = float(input(\"Temperaturu daxil edin: \"))\n",
        "if temp < 0:\n",
        "    print(\"soyuq\")\n",
        "elif 0 <= temp <= 20:\n",
        "    print(\"normal\")\n",
        "else:\n",
        "    print(\"isti\")"
      ],
      "metadata": {
        "colab": {
          "base_uri": "https://localhost:8080/"
        },
        "id": "Cygdcb4T9iFo",
        "outputId": "3c40e586-5b58-4d6c-e248-dd5ca238117d"
      },
      "execution_count": null,
      "outputs": [
        {
          "output_type": "stream",
          "name": "stdout",
          "text": [
            "Temperaturu daxil edin: 32\n",
            "isti\n"
          ]
        }
      ]
    },
    {
      "cell_type": "markdown",
      "source": [
        "**6) password adlı string verilmişdir. Əgər uzunluğu 8-dən kiçikdirsə \"qısa\", 8-12 arasıdırsa \"orta\", 12-dən böyükdürsə \"uzun\" çap etsin.**"
      ],
      "metadata": {
        "id": "TtkzkJgb-Mge"
      }
    },
    {
      "cell_type": "code",
      "source": [
        "password = input(\"Şifrəni daxil edin: \")\n",
        "if len(password) < 8:\n",
        "    print(\"qısa\")\n",
        "elif 8 <= len(password) <= 12:\n",
        "    print(\"orta\")\n",
        "else:\n",
        "    print(\"uzun\")"
      ],
      "metadata": {
        "colab": {
          "base_uri": "https://localhost:8080/"
        },
        "id": "a4sU7rEI-JAg",
        "outputId": "2d71ce9d-d7a0-476f-9172-3eb9fdb46449"
      },
      "execution_count": null,
      "outputs": [
        {
          "output_type": "stream",
          "name": "stdout",
          "text": [
            "Şifrəni daxil edin: 18651827538181385813581358135\n",
            "uzun\n"
          ]
        }
      ]
    },
    {
      "cell_type": "markdown",
      "source": [
        "**7) x rəqəmi həm 3-ə, həm də 5-ə bölünürsə \"3 və 5\", yalnız 3-ə bölünürsə \"3\", yalnız 5-ə bölünürsə \"5\", heç birinə bölünmürsə \"heç biri\" çap etsin.**"
      ],
      "metadata": {
        "id": "7OpjyeNf-W4l"
      }
    },
    {
      "cell_type": "code",
      "source": [
        "x = int(input(\"x dəyərini daxil edin: \"))\n",
        "if x % 3 == 0 and x % 5 == 0:\n",
        "    print(\"3 və 5\")\n",
        "elif x % 3 == 0:\n",
        "    print(\"3\")\n",
        "elif x % 5 == 0:\n",
        "    print(\"5\")\n",
        "else:\n",
        "    print(\"heç biri\")"
      ],
      "metadata": {
        "colab": {
          "base_uri": "https://localhost:8080/"
        },
        "id": "XQhw_2W5-TnF",
        "outputId": "c59274fb-7c9b-4885-8fa0-7d0b8c7826ad"
      },
      "execution_count": null,
      "outputs": [
        {
          "output_type": "stream",
          "name": "stdout",
          "text": [
            "x dəyərini daxil edin: 92\n",
            "heç biri\n"
          ]
        }
      ]
    },
    {
      "cell_type": "markdown",
      "source": [
        "**8) 0-dan 20-yə qədər cüt rəqəmləri çap etsin.**"
      ],
      "metadata": {
        "id": "5fMf2Ehe-lVV"
      }
    },
    {
      "cell_type": "code",
      "source": [
        "for i in range(0, 21, 2):\n",
        "    print(i, end=\" \")\n",
        "print()"
      ],
      "metadata": {
        "colab": {
          "base_uri": "https://localhost:8080/"
        },
        "id": "kzzLckZ9-gHf",
        "outputId": "3c41784c-7811-41ce-f354-df02b2d96300"
      },
      "execution_count": null,
      "outputs": [
        {
          "output_type": "stream",
          "name": "stdout",
          "text": [
            "0 2 4 6 8 10 12 14 16 18 20 \n"
          ]
        }
      ]
    },
    {
      "cell_type": "markdown",
      "source": [
        "**9)\"Bağda ərik var idi …\" stringinin hər elementini for ilə ayrı-ayrılıqda çap edin.**"
      ],
      "metadata": {
        "id": "DpxKBsPg-v9c"
      }
    },
    {
      "cell_type": "code",
      "source": [
        "text = \"Bağda ərik var idi …\"\n",
        "for char in text:\n",
        "    print(char)"
      ],
      "metadata": {
        "colab": {
          "base_uri": "https://localhost:8080/"
        },
        "id": "2V8UZVXN-qhk",
        "outputId": "99bdf2d0-e65f-4b5d-8658-6777c398c9d5"
      },
      "execution_count": null,
      "outputs": [
        {
          "output_type": "stream",
          "name": "stdout",
          "text": [
            "B\n",
            "a\n",
            "ğ\n",
            "d\n",
            "a\n",
            " \n",
            "ə\n",
            "r\n",
            "i\n",
            "k\n",
            " \n",
            "v\n",
            "a\n",
            "r\n",
            " \n",
            "i\n",
            "d\n",
            "i\n",
            " \n",
            "…\n"
          ]
        }
      ]
    },
    {
      "cell_type": "markdown",
      "source": [
        "**10)1-dən 10-a qədər rəqəmləri çap edin, amma 3 xaric.**"
      ],
      "metadata": {
        "id": "-QnL-ZKMAU6_"
      }
    },
    {
      "cell_type": "code",
      "source": [
        "for i in range(1, 11):\n",
        "    if i == 3:\n",
        "        continue\n",
        "    print(i, end=\" \")\n",
        "print()"
      ],
      "metadata": {
        "colab": {
          "base_uri": "https://localhost:8080/"
        },
        "id": "JiISpnKoAWo-",
        "outputId": "5522a518-aee2-4166-8122-86592f80d659"
      },
      "execution_count": null,
      "outputs": [
        {
          "output_type": "stream",
          "name": "stdout",
          "text": [
            "1 2 4 5 6 7 8 9 10 \n"
          ]
        }
      ]
    },
    {
      "cell_type": "markdown",
      "source": [
        "**11) 1-dən başlayaraq ilk 5-ə bölünən rəqəmi tapın və while ilə çap edin (break istifadə edin).**"
      ],
      "metadata": {
        "id": "l3sTaTUjAkX2"
      }
    },
    {
      "cell_type": "code",
      "source": [
        "i = 1\n",
        "while True:\n",
        "    if i % 5 == 0:\n",
        "        print(i)\n",
        "        break\n",
        "    i += 1"
      ],
      "metadata": {
        "colab": {
          "base_uri": "https://localhost:8080/"
        },
        "id": "G-iN53dkAglX",
        "outputId": "596bc9e9-1926-4c2c-f3a6-4300838cd45e"
      },
      "execution_count": null,
      "outputs": [
        {
          "output_type": "stream",
          "name": "stdout",
          "text": [
            "5\n"
          ]
        }
      ]
    },
    {
      "cell_type": "markdown",
      "source": [
        "**12) (1, 3, 5, 7, 9) listində/vectorunda 5-i tapın və indeksini çap edin (break istifadə edin).**"
      ],
      "metadata": {
        "id": "znXv4LjaAwxN"
      }
    },
    {
      "cell_type": "code",
      "source": [
        "numbers = [1, 3, 5, 7, 9]\n",
        "for index, num in enumerate(numbers):\n",
        "    if num == 5:\n",
        "        print(\"5-in indeksi:\", index)\n",
        "        break"
      ],
      "metadata": {
        "colab": {
          "base_uri": "https://localhost:8080/"
        },
        "id": "h_1-1bn9Ar4u",
        "outputId": "e189f9d3-b75f-4560-b307-ee3300cb5c3e"
      },
      "execution_count": null,
      "outputs": [
        {
          "output_type": "stream",
          "name": "stdout",
          "text": [
            "5-in indeksi: 2\n"
          ]
        }
      ]
    },
    {
      "cell_type": "markdown",
      "source": [
        "# **SPRINT_3b**"
      ],
      "metadata": {
        "id": "Tu-TQLjFA4vV"
      }
    },
    {
      "cell_type": "markdown",
      "source": [
        "**1) salam adlı funksiya yaradın ki, heç bir arqument almadan sadəcə \"Salam, Dünya!\" çap etsin.**"
      ],
      "metadata": {
        "id": "-JpNQUo5F6CP"
      }
    },
    {
      "cell_type": "code",
      "source": [
        "def salam():\n",
        "    print(\"Salam, Dünya!\")\n",
        "salam()"
      ],
      "metadata": {
        "colab": {
          "base_uri": "https://localhost:8080/"
        },
        "id": "nbHGcDoEHIxk",
        "outputId": "0696fce5-22d7-4824-e7ba-5b4a17326818"
      },
      "execution_count": null,
      "outputs": [
        {
          "output_type": "stream",
          "name": "stdout",
          "text": [
            "Salam, Dünya!\n"
          ]
        }
      ]
    },
    {
      "cell_type": "markdown",
      "source": [
        "**2) kub_hesabla adlı funksiya yaradın ki, bir rəqəm (n) qəbul etsin və onun kubunu qaytarsın.**"
      ],
      "metadata": {
        "id": "Z1SuwIIYHZZ7"
      }
    },
    {
      "cell_type": "code",
      "source": [
        "def kub_hesabla(n):\n",
        "    return n ** 3\n",
        "n = int(input(\"Bir rəqəm daxil edin: \"))\n",
        "print(f\"{n} rəqəminin kubu:\", kub_hesabla(n))\n"
      ],
      "metadata": {
        "colab": {
          "base_uri": "https://localhost:8080/"
        },
        "id": "lqXT2Y1hHdgr",
        "outputId": "6f9d4588-5b72-4f29-81b1-8bd1e17a4593"
      },
      "execution_count": null,
      "outputs": [
        {
          "output_type": "stream",
          "name": "stdout",
          "text": [
            "Bir rəqəm daxil edin: 8\n",
            "8 rəqəminin kubu: 512\n"
          ]
        }
      ]
    },
    {
      "cell_type": "markdown",
      "source": [
        "**3) birlesdir adlı funksiya yaradın ki, iki söz qəbul etsin və onları boşluqla birləşdirib qaytarsın.**"
      ],
      "metadata": {
        "id": "CfciUSYLH3wZ"
      }
    },
    {
      "cell_type": "code",
      "source": [
        "def birlesdir(soz1, soz2):\n",
        "    return f\"{soz1} {soz2}\"\n",
        "soz1 = input(\"Birinci sözü daxil edin: \")\n",
        "soz2 = input(\"İkinci sözü daxil edin: \")\n",
        "print(\"Birləşmiş söz:\", birlesdir(soz1, soz2))"
      ],
      "metadata": {
        "colab": {
          "base_uri": "https://localhost:8080/"
        },
        "id": "ubaMFpg4HfvC",
        "outputId": "7a7ac508-973f-42fe-80fc-e82907cb0e25"
      },
      "execution_count": null,
      "outputs": [
        {
          "output_type": "stream",
          "name": "stdout",
          "text": [
            "Birinci sözü daxil edin: kitab\n",
            "İkinci sözü daxil edin: xana\n",
            "Birləşmiş söz: kitab xana\n"
          ]
        }
      ]
    },
    {
      "cell_type": "markdown",
      "source": [
        "**4) cap_et adlı funksiya yaradın ki, bir listi arqument olaraq alsın və listin hər elementini for ilə çap etsin.**"
      ],
      "metadata": {
        "id": "G2NX6FKvISzB"
      }
    },
    {
      "cell_type": "code",
      "source": [
        "def cap_et(liste):\n",
        "    for element in liste:\n",
        "        print(element)\n",
        "\n",
        "cap_et([\"alma\", \"armud\", \"nar\"])\n"
      ],
      "metadata": {
        "colab": {
          "base_uri": "https://localhost:8080/"
        },
        "id": "_sgCMIzlH-4R",
        "outputId": "d3fb843c-33ba-4a3e-e4e7-4a494aa610c1"
      },
      "execution_count": null,
      "outputs": [
        {
          "output_type": "stream",
          "name": "stdout",
          "text": [
            "alma\n",
            "armud\n",
            "nar\n"
          ]
        }
      ]
    },
    {
      "cell_type": "markdown",
      "source": [
        "**5) toplam adlı funksiya yaradın ki, istənilən sayda rəqəmi (*args) qəbul edib onların cəmini qaytarsın.**"
      ],
      "metadata": {
        "id": "vxqyRpTBIwy_"
      }
    },
    {
      "cell_type": "code",
      "source": [
        "def toplam(*args):\n",
        "    return sum(args)\n",
        "\n",
        "print(toplam(1, 2, 3, 4))"
      ],
      "metadata": {
        "colab": {
          "base_uri": "https://localhost:8080/"
        },
        "id": "oP_KKOc0IWCg",
        "outputId": "ce280218-3146-4eae-8551-69e1dfeabe72"
      },
      "execution_count": null,
      "outputs": [
        {
          "output_type": "stream",
          "name": "stdout",
          "text": [
            "10\n"
          ]
        }
      ]
    },
    {
      "cell_type": "markdown",
      "source": [
        "**6) ortalama adlı funksiya yaradın ki, istənilən sayda rəqəmi (*args) qəbul edib onların ortalamasını qaytarsın (əgər heç bir rəqəm yoxdursa, \"Rəqəm yoxdur\" qaytarsın).**"
      ],
      "metadata": {
        "id": "gxJvFm6fJEDe"
      }
    },
    {
      "cell_type": "code",
      "source": [
        "def ortalama(*args):\n",
        "    if args:\n",
        "        return sum(args) / len(args)\n",
        "    else:\n",
        "        return \"Rəqəm yoxdur\"\n",
        "\n",
        "print(ortalama(1, 2, 3, 4))\n",
        "print(ortalama())"
      ],
      "metadata": {
        "colab": {
          "base_uri": "https://localhost:8080/"
        },
        "id": "mxg7qXYqJCBu",
        "outputId": "a0d4d4a7-4983-4131-f4c8-bfbd51e1c6c3"
      },
      "execution_count": null,
      "outputs": [
        {
          "output_type": "stream",
          "name": "stdout",
          "text": [
            "2.5\n",
            "Rəqəm yoxdur\n"
          ]
        }
      ]
    },
    {
      "cell_type": "markdown",
      "source": [
        "**7) adlar_rəqəmlər adlı funksiya yaradın ki, istənilən sayda ad və rəqəm cütünü (*kwargs) qəbul edib hər cütü çap etsin (məsələn, \"ad: bir, rəqəm: 1\")**"
      ],
      "metadata": {
        "id": "8z5KoeQ2JX5V"
      }
    },
    {
      "cell_type": "code",
      "source": [
        "def adlar_rəqəmlər(**kwargs):\n",
        "    for ad, rəqəm in kwargs.items():\n",
        "        print(f\"ad: {ad}, rəqəm: {rəqəm}\")\n",
        "\n",
        "adlar_rəqəmlər(bir=1, iki=2, üç=3)"
      ],
      "metadata": {
        "colab": {
          "base_uri": "https://localhost:8080/"
        },
        "id": "WBc6c0PeJP-1",
        "outputId": "cf2df330-157c-4bda-d365-3f1cb8875df2"
      },
      "execution_count": null,
      "outputs": [
        {
          "output_type": "stream",
          "name": "stdout",
          "text": [
            "ad: bir, rəqəm: 1\n",
            "ad: iki, rəqəm: 2\n",
            "ad: üç, rəqəm: 3\n"
          ]
        }
      ]
    },
    {
      "cell_type": "markdown",
      "source": [
        "**8) tip_yoxla adlı funksiya yaradın ki, bir dəyər qəbul edib onun tipini yoxlasın: \"mətn\", \"rəqəm\", \"başqa\" çap etsin.**"
      ],
      "metadata": {
        "id": "JACx3eSpJzXj"
      }
    },
    {
      "cell_type": "code",
      "source": [
        "def tip_yoxla(dəyər):\n",
        "    if isinstance(dəyər, str):\n",
        "        print(\"mətn\")\n",
        "    elif isinstance(dəyər, (int, float)):\n",
        "        print(\"rəqəm\")\n",
        "    else:\n",
        "        print(\"başqa\")\n",
        "\n",
        "tip_yoxla(42)\n",
        "tip_yoxla(\"salam\")\n",
        "tip_yoxla([1, 2, 3])"
      ],
      "metadata": {
        "colab": {
          "base_uri": "https://localhost:8080/"
        },
        "id": "RxPBfKiEKFgK",
        "outputId": "e5797647-293c-45ae-e39a-e8821f49c517"
      },
      "execution_count": null,
      "outputs": [
        {
          "output_type": "stream",
          "name": "stdout",
          "text": [
            "rəqəm\n",
            "mətn\n",
            "başqa\n"
          ]
        }
      ]
    },
    {
      "cell_type": "markdown",
      "source": [
        "**9) yas_kateqoriya adlı funksiya yaradın ki, input()/readline() ilə yaş soruşsun, 18-dən aşağıysa \"Gənc\", yuxarıdrsa \"Yetkin\" çap etsin.**"
      ],
      "metadata": {
        "id": "-yYzIvmJKccp"
      }
    },
    {
      "cell_type": "code",
      "source": [
        "def yas_kateqoriya(yas):\n",
        "    if yas < 18:\n",
        "        print(\"Gənc\")\n",
        "    else:\n",
        "        print(\"Yetkin\")\n",
        "\n",
        "\n",
        "yas_kateqoriya(15)\n",
        "yas_kateqoriya(20)"
      ],
      "metadata": {
        "colab": {
          "base_uri": "https://localhost:8080/"
        },
        "id": "nnW4IhRjKYX5",
        "outputId": "f0b653b0-9eda-4be4-b6df-a0f6a1790910"
      },
      "execution_count": null,
      "outputs": [
        {
          "output_type": "stream",
          "name": "stdout",
          "text": [
            "Gənc\n",
            "Yetkin\n"
          ]
        }
      ]
    },
    {
      "cell_type": "markdown",
      "source": [
        "**10) soz_uzunluq adlı funksiya yaradın ki, input()/readline() ilə istifadəçidən söz alsın və onun uzunluğunu çap etsin.**"
      ],
      "metadata": {
        "id": "HXxzMpZfKt2Z"
      }
    },
    {
      "cell_type": "code",
      "source": [
        "def soz_uzunluq():\n",
        "    soz = input(\"Bir söz daxil edin: \")\n",
        "    print(f\"Sözün uzunluğu: {len(soz)}\")\n",
        "\n",
        "\n",
        "soz_uzunluq()"
      ],
      "metadata": {
        "colab": {
          "base_uri": "https://localhost:8080/"
        },
        "id": "ileA69ZgKgpJ",
        "outputId": "e7f2dea9-4f6a-4cfd-cf86-cdec433f9081"
      },
      "execution_count": null,
      "outputs": [
        {
          "output_type": "stream",
          "name": "stdout",
          "text": [
            "Bir söz daxil edin: elektriklendirilmislerdensinizmi\n",
            "Sözün uzunluğu: 32\n"
          ]
        }
      ]
    },
    {
      "cell_type": "code",
      "source": [],
      "metadata": {
        "id": "53_ptE9OK0gQ"
      },
      "execution_count": null,
      "outputs": []
    }
  ]
}